{
 "cells": [
  {
   "cell_type": "code",
   "execution_count": null,
   "metadata": {},
   "outputs": [],
   "source": [
    "import logging\n",
    "import pickle\n",
    "\n",
    "import matplotlib.pyplot as plt\n",
    "import torch\n",
    "from safetensors.torch import load_file\n",
    "\n",
    "from src.models.stable_diffusion_3.modeling_sd3_pnt import SD3PredictNextTimeStepModel\n",
    "\n",
    "\n",
    "logger = logging.getLogger(__name__)"
   ]
  },
  {
   "cell_type": "code",
   "execution_count": null,
   "metadata": {},
   "outputs": [],
   "source": [
    "model = SD3PredictNextTimeStepModel(\"models/stabilityai/stable-diffusion-3-medium-diffusers\").eval().to(\"cuda\")\n",
    "\n",
    "\n",
    "ckpt = load_file(\"checkpoint/sd3/model.safetensors\")\n",
    "ckpt = {k.replace(\"agent_model.\", \"\"): v for k, v in ckpt.items()}\n",
    "model.load_state_dict(ckpt, strict=False)"
   ]
  },
  {
   "cell_type": "code",
   "execution_count": null,
   "metadata": {},
   "outputs": [],
   "source": [
    "prompt = \"An ornate, golden invitation letter with intricate calligraphy. The text reads 'Your Presence is Requested at the Royal Feast' in elegant, swirling script. The letter is illuminated by soft candlelight and rests on a royal velvet cushion. The background features a grand palace with towering spires and lush gardens, with a small scroll tucked inside the envelope.\"\n",
    "outputs = model.forward(\n",
    "    prompt=prompt,\n",
    "    predict=True,\n",
    "    max_inference_steps=35,\n",
    "    generator=torch.Generator(\"cuda\").manual_seed(0),\n",
    "    return_full_process_images=False,\n",
    ")"
   ]
  },
  {
   "cell_type": "code",
   "execution_count": null,
   "metadata": {},
   "outputs": [],
   "source": [
    "images = outputs.images[0]\n",
    "sigmas = outputs.sigmas.tolist()[0]\n",
    "print(\"inference steps\", len(sigmas))"
   ]
  },
  {
   "cell_type": "code",
   "execution_count": null,
   "metadata": {},
   "outputs": [],
   "source": [
    "images[-1]"
   ]
  }
 ],
 "metadata": {
  "kernelspec": {
   "display_name": "main",
   "language": "python",
   "name": "python3"
  },
  "language_info": {
   "codemirror_mode": {
    "name": "ipython",
    "version": 3
   },
   "file_extension": ".py",
   "mimetype": "text/x-python",
   "name": "python",
   "nbconvert_exporter": "python",
   "pygments_lexer": "ipython3",
   "version": "3.9.18"
  }
 },
 "nbformat": 4,
 "nbformat_minor": 2
}
